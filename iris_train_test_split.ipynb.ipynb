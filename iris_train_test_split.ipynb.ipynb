{
 "cells": [
  {
   "cell_type": "code",
   "execution_count": 0,
   "metadata": {
    "application/vnd.databricks.v1+cell": {
     "cellMetadata": {
      "byteLimit": 2048000,
      "rowLimit": 10000
     },
     "inputWidgets": {},
     "nuid": "b75b4f79-5623-4b7f-8e04-f8bc0d3a6e42",
     "showTitle": false,
     "tableResultSettingsMap": {},
     "title": ""
    }
   },
   "outputs": [],
   "source": [
    "# Parameters to specify your catalog, schema, and table\n",
    "catalog = \"workspace\"\n",
    "schema = \"schema_iris\"\n",
    "table_name = \"table_iris\"\n",
    "\n",
    "# Full table identifier in Unity Catalog\n",
    "table_full = f\"{catalog}.{schema}.{table_name}\"\n",
    "\n",
    "# Load the DataFrame from the catalog table\n",
    "df = spark.table(table_full)\n",
    "\n",
    "# Show the first few rows\n",
    "df.show(5)"
   ]
  },
  {
   "cell_type": "code",
   "execution_count": 0,
   "metadata": {
    "application/vnd.databricks.v1+cell": {
     "cellMetadata": {
      "byteLimit": 2048000,
      "rowLimit": 10000
     },
     "inputWidgets": {},
     "nuid": "d4ec83c1-bd12-4918-a8d3-fa4195537c7a",
     "showTitle": false,
     "tableResultSettingsMap": {},
     "title": ""
    }
   },
   "outputs": [],
   "source": [
    "# Drop the 'id' column BEFORE splitting\n",
    "df = df.drop(\"id\")"
   ]
  },
  {
   "cell_type": "code",
   "execution_count": 0,
   "metadata": {
    "application/vnd.databricks.v1+cell": {
     "cellMetadata": {
      "byteLimit": 2048000,
      "rowLimit": 10000
     },
     "inputWidgets": {},
     "nuid": "3e4f5870-ca42-46e0-8eea-36af2ffd2724",
     "showTitle": false,
     "tableResultSettingsMap": {},
     "title": ""
    }
   },
   "outputs": [],
   "source": [
    "# Randomly split into train (80%) and test (20%)\n",
    "train_df, test_df = df.randomSplit([0.8, 0.2], seed=42)"
   ]
  },
  {
   "cell_type": "code",
   "execution_count": 0,
   "metadata": {
    "application/vnd.databricks.v1+cell": {
     "cellMetadata": {
      "byteLimit": 2048000,
      "rowLimit": 10000
     },
     "inputWidgets": {},
     "nuid": "a97eb421-d3c3-4f08-b971-06acc3bbebac",
     "showTitle": false,
     "tableResultSettingsMap": {},
     "title": ""
    }
   },
   "outputs": [],
   "source": [
    "# Show sample rows from train and test sets\n",
    "print(\"Training set sample:\")\n",
    "train_df.show(5)\n",
    "\n",
    "print(\"Test set sample:\")\n",
    "test_df.show(5)"
   ]
  },
  {
   "cell_type": "code",
   "execution_count": 0,
   "metadata": {
    "application/vnd.databricks.v1+cell": {
     "cellMetadata": {
      "byteLimit": 2048000,
      "rowLimit": 10000
     },
     "inputWidgets": {},
     "nuid": "f0987a02-52e3-4604-be3f-573d2a2002e6",
     "showTitle": false,
     "tableResultSettingsMap": {},
     "title": ""
    }
   },
   "outputs": [],
   "source": [
    "# Parameters for your catalog, schema, and target table names for train and test\n",
    "train_table = \"iris_train\"\n",
    "test_table = \"iris_test\"\n",
    "\n",
    "# Full table identifiers\n",
    "train_table_full = f\"{catalog}.{schema}.{train_table}\"\n",
    "test_table_full = f\"{catalog}.{schema}.{test_table}\"\n",
    "\n",
    "# Save the training set as a Delta table (overwrite if exists)\n",
    "train_df.write.format(\"delta\").mode(\"overwrite\").saveAsTable(train_table_full)\n",
    "\n",
    "# Save the test set as a Delta table (overwrite if exists)\n",
    "test_df.write.format(\"delta\").mode(\"overwrite\").saveAsTable(test_table_full)\n",
    "\n",
    "print(f\"Train and test sets saved:\\n- {train_table_full}\\n- {test_table_full}\")"
   ]
  },
  {
   "cell_type": "code",
   "execution_count": 0,
   "metadata": {
    "application/vnd.databricks.v1+cell": {
     "cellMetadata": {
      "byteLimit": 2048000,
      "rowLimit": 10000
     },
     "inputWidgets": {},
     "nuid": "605645e6-2ae3-4199-9a4c-1ad20d15a58d",
     "showTitle": false,
     "tableResultSettingsMap": {},
     "title": ""
    }
   },
   "outputs": [],
   "source": []
  }
 ],
 "metadata": {
  "application/vnd.databricks.v1+notebook": {
   "computePreferences": null,
   "dashboards": [],
   "environmentMetadata": {
    "base_environment": "",
    "environment_version": "2"
   },
   "inputWidgetPreferences": null,
   "language": "python",
   "notebookMetadata": {
    "pythonIndentUnit": 4
   },
   "notebookName": "iris_train_test_split.ipynb",
   "widgets": {}
  },
  "language_info": {
   "name": "python"
  }
 },
 "nbformat": 4,
 "nbformat_minor": 0
}
